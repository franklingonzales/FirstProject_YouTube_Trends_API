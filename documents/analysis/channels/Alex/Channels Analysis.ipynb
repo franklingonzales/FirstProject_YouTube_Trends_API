{
 "cells": [
  {
   "cell_type": "code",
   "execution_count": 2,
   "metadata": {},
   "outputs": [],
   "source": [
    "import pandas as pd\n",
    "\n",
    "%matplotlib inline"
   ]
  },
  {
   "cell_type": "code",
   "execution_count": 17,
   "metadata": {},
   "outputs": [
    {
     "data": {
      "text/plain": [
       "31236647076"
      ]
     },
     "execution_count": 17,
     "metadata": {},
     "output_type": "execute_result"
    }
   ],
   "source": [
    "df = pd.read_csv('../../../../resources/datasets/USchannels.csv')\n",
    "\n",
    "# subscriberCount & Views (correlation)\n",
    "# channels x ViewsCount (potential for narrow down where to put ads)\n",
    "# channel grow \n",
    "   # trending views count x actual views count\n",
    "    \n",
    "    \n",
    "len(df[df['channel_id'].isna()])\n",
    "\n",
    "#len(df)\n",
    "\n",
    "df['viewCount'].max()\n"
   ]
  },
  {
   "cell_type": "code",
   "execution_count": null,
   "metadata": {},
   "outputs": [],
   "source": []
  }
 ],
 "metadata": {
  "kernelspec": {
   "display_name": "Python 3",
   "language": "python",
   "name": "python3"
  },
  "language_info": {
   "codemirror_mode": {
    "name": "ipython",
    "version": 3
   },
   "file_extension": ".py",
   "mimetype": "text/x-python",
   "name": "python",
   "nbconvert_exporter": "python",
   "pygments_lexer": "ipython3",
   "version": "3.7.0"
  }
 },
 "nbformat": 4,
 "nbformat_minor": 2
}
